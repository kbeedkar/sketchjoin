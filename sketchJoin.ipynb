{
 "cells": [
  {
   "cell_type": "markdown",
   "metadata": {},
   "source": []
  },
  {
   "cell_type": "markdown",
   "metadata": {},
   "source": [
    "\n",
    "This notebook provides a complete, executable workflow for similarity search system.\n",
    "\n",
    "## System Overview\n",
    "\n",
    "```\n",
    "Dataset → CMS Construction → MinHash Signatures → LSH Index → Query Processing\n",
    "```\n",
    "\n"
   ]
  },
  {
   "cell_type": "markdown",
   "metadata": {},
   "source": [
    "## Prerequisites\n",
    "\n",
    "Ensure you have the required packages installed."
   ]
  },
  {
   "cell_type": "code",
   "execution_count": null,
   "metadata": {},
   "outputs": [],
   "source": [
    "# Install required packages \n",
    "!pip install numpy pandas scikit-learn"
   ]
  },
  {
   "cell_type": "markdown",
   "metadata": {},
   "source": [
    "## Step 1: Build Count-Min Sketch (CMS)\n",
    "\n",
    "Construct CMS representations for each column in the dataset.\n",
    "\n"
   ]
  },
  {
   "cell_type": "code",
   "execution_count": null,
   "metadata": {},
   "outputs": [],
   "source": [
    "\n",
    "# Build CMS for all columns\n",
    "!python preprocessing/cms_construction.py \\\n",
    "    --dataset_path ./nyc_cleaned \\\n",
    "    --dataset_name nyc\n",
    "\n",
    "\n",
    "print(\"✓ Count-Min Sketch construction completed\")\n"
   ]
  },
  {
   "cell_type": "markdown",
   "metadata": {},
   "source": [
    "## Step 2: Build MinHash Signatures\n",
    "\n",
    "Generate MinHash signatures from CMS."
   ]
  },
  {
   "cell_type": "code",
   "execution_count": null,
   "metadata": {},
   "outputs": [],
   "source": [
    "\n",
    "# Build MinHash signatures\n",
    "!python preprocessing/minhash_construction.py \\\n",
    "    --dataset_path ./nyc_cleaned \\\n",
    "    --dataset_name nyc\n",
    "\n"
   ]
  },
  {
   "cell_type": "markdown",
   "metadata": {},
   "source": [
    "## Step 3: Build LSH Index\n",
    "\n",
    "Construct Locality-Sensitive Hashing index for fast approximate nearest neighbor search.\n",
    "\n"
   ]
  },
  {
   "cell_type": "code",
   "execution_count": null,
   "metadata": {},
   "outputs": [],
   "source": [
    "\n",
    "!python index/lsh_index.py \\\n",
    "    --dataset_path ./nyc_cleaned \\\n",
    "    --dataset_name nyc\n",
    "\n"
   ]
  },
  {
   "cell_type": "markdown",
   "metadata": {},
   "source": [
    "## Step 4: Run Query and Evaluate Results\n",
    "\n",
    "Searches for columns similar to the query column."
   ]
  },
  {
   "cell_type": "code",
   "execution_count": null,
   "metadata": {},
   "outputs": [],
   "source": [
    "\n",
    "!python discovery/LinearScan.py \\\n",
    "    --query_file query.csv \\\n",
    "    --query_column location \\\n",
    "    --dataset_path ./nyc_cleaned \\\n",
    "    --dataset_name nyc\n"
   ]
  },
  {
   "cell_type": "markdown",
   "metadata": {},
   "source": [
    "## Configuration and Tuning\n",
    "\n",
    "To adjust system parameters, modify the following files:\n",
    "\n",
    "### `utils/cms_utils.py`\n",
    "```python\n",
    "CMS_WIDTH = 2000  
    "CMS_DEPTH = 5     # Number of hash functions\n",
    "```\n",
    "\n",
    "### `utils/utils.py`\n",
    "```python\n",
    "ERROR = 0.05                        # Approximation error bound\n",
    "PROBABILITY_OF_ERROR_MINHASH = 0.1  # MinHash error probability\n",
    "THRESHOLD = 0.7                     # Similarity threshold (0.0 to 1.0)\n",
    "PROBABILITY_OF_ERROR_LSH = 0.05     # LSH false negative rate\n",
    "```\n"
   ]
  }
 ],
 "metadata": {
  "kernelspec": {
   "display_name": "Python 3",
   "language": "python",
   "name": "python3"
  },
  "language_info": {
   "codemirror_mode": {
    "name": "ipython",
    "version": 3
   },
   "file_extension": ".py",
   "mimetype": "text/x-python",
   "name": "python",
   "nbconvert_exporter": "python",
   "pygments_lexer": "ipython3",
   "version": "3.8.0"
  }
 },
 "nbformat": 4,
 "nbformat_minor": 4
}
